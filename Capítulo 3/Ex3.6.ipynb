{
 "cells": [
  {
   "cell_type": "markdown",
   "metadata": {},
   "source": [
    "## Exercise 3.6\n",
    "\n",
    "Suppose you treated pole-balancing as an episodic task but also used discounting, with all rewards zero except for -1 upon failure. What then would the return be at each time? How does this return differ from that in the discounted, continuing formulation of this task?"
   ]
  },
  {
   "cell_type": "markdown",
   "metadata": {},
   "source": [
    "A taxa de disconto determina que uma recompensa recebida em k passos vale $\\gamma^{k-1}$, logo, a recompensa no tempo t é dada por:\n",
    "\n",
    "$G_{t}=-\\gamma^{T-t}$, onde T é o tempo do estado Terminal\n",
    "\n",
    "A recompensa em t na formulação continua é dada por:\n",
    "\n",
    "$G_{t}=\\sum \\limits _{k \\in K}  \\gamma^{k-t}$, onde K é o conjunto de todos os tempos antes de tempo do estado terminal"
   ]
  },
  {
   "cell_type": "code",
   "execution_count": null,
   "metadata": {},
   "outputs": [],
   "source": []
  }
 ],
 "metadata": {
  "kernelspec": {
   "display_name": "Python 3",
   "language": "python",
   "name": "python3"
  },
  "language_info": {
   "codemirror_mode": {
    "name": "ipython",
    "version": 3
   },
   "file_extension": ".py",
   "mimetype": "text/x-python",
   "name": "python",
   "nbconvert_exporter": "python",
   "pygments_lexer": "ipython3",
   "version": "3.8.5"
  }
 },
 "nbformat": 4,
 "nbformat_minor": 4
}
