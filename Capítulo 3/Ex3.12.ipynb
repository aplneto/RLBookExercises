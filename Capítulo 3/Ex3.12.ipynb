{
 "cells": [
  {
   "cell_type": "markdown",
   "metadata": {},
   "source": [
    "## Exercise 3.12\n",
    "Give an equation for $v_{\\pi}$ in terms of $q_{\\pi}$ and $\\pi$."
   ]
  },
  {
   "cell_type": "markdown",
   "metadata": {},
   "source": [
    "Temos,\n",
    "\n",
    "$q_{\\pi}(s, a) \\dot{=} \\mathbb{E}_{\\pi}[G_t| S_t = s, A_t = a] = \\mathbb{E}_{\\pi}[\\sum \\limits _{k=0} ^{\\infty} \\gamma^k R_{t+k+1} | S_t = s, A_t = a]$\n",
    "\n",
    "Logo,\n",
    "\n",
    "$v_{\\pi}(s) = \\sum \\limits _a q_{\\pi}(s, a)\\pi(a, s)$"
   ]
  }
 ],
 "metadata": {
  "kernelspec": {
   "display_name": "Python 3",
   "language": "python",
   "name": "python3"
  },
  "language_info": {
   "codemirror_mode": {
    "name": "ipython",
    "version": 3
   },
   "file_extension": ".py",
   "mimetype": "text/x-python",
   "name": "python",
   "nbconvert_exporter": "python",
   "pygments_lexer": "ipython3",
   "version": "3.8.5"
  }
 },
 "nbformat": 4,
 "nbformat_minor": 4
}
