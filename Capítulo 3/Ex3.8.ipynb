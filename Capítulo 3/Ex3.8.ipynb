{
 "cells": [
  {
   "cell_type": "markdown",
   "metadata": {},
   "source": [
    "## Exercise 3.8\n",
    "Suppose $\\gamma = 0.5$ and the following sequence of rewards is received $R_{1} = -1$, $R_{2} = 2$, $R_{3} = 6$, $R_{4} = 3$, and $R_{5} = 2$, with $T = 5$. What are $G_{0}$, $G_{1}$, ..., $G_{5}$ ? Hint: Work backwards."
   ]
  },
  {
   "cell_type": "markdown",
   "metadata": {},
   "source": [
    "Dado que:\n",
    "\n",
    "$G_{t} = R_{t+1} + \\gamma G_{t+1}$\n",
    "\n",
    "Temos:\n",
    "\n",
    "Uma vez que $G_{T} = 0$, temos $G_{5} = 0$;\n",
    "\n",
    "$G_{4} = R_{5} + \\gamma G_{5} = 2 + 0.5 * 0 = 2$;\n",
    "\n",
    "$G_{3} = R_{4} + \\gamma G_{3} = 3 + 0.5 * 2 = 4$;\n",
    "\n",
    "$G_{2} = R_{3} + \\gamma G_{3} = 6 + 0.5 * 4 = 8$;\n",
    "\n",
    "$G_{1} = R_{2} + \\gamma G_{2} = 2 + 0.5 * 8 = 6$;\n",
    "\n",
    "$G_{0} = R_{1} + \\gamma G_{1} = -1 + 6 * 0.5 = 2$"
   ]
  },
  {
   "cell_type": "code",
   "execution_count": null,
   "metadata": {},
   "outputs": [],
   "source": []
  }
 ],
 "metadata": {
  "kernelspec": {
   "display_name": "Python 3",
   "language": "python",
   "name": "python3"
  },
  "language_info": {
   "codemirror_mode": {
    "name": "ipython",
    "version": 3
   },
   "file_extension": ".py",
   "mimetype": "text/x-python",
   "name": "python",
   "nbconvert_exporter": "python",
   "pygments_lexer": "ipython3",
   "version": "3.8.5"
  }
 },
 "nbformat": 4,
 "nbformat_minor": 4
}
