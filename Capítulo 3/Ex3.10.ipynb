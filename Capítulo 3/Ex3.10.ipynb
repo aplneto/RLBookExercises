{
 "cells": [
  {
   "cell_type": "markdown",
   "metadata": {},
   "source": [
    "## Exercise 3.10\n",
    "Prove the second equality in (3.10)\n",
    "\n",
    "(3.10) $G_{t} = \\sum \\limits _{k=0}^{\\infty} \\gamma ^{k}= \\frac{1}{1-\\gamma}$;"
   ]
  },
  {
   "cell_type": "markdown",
   "metadata": {},
   "source": [
    "$G_{t} \\dot{=} \\sum \\limits _{k=0} ^{\\infty} \\gamma^{k}R_{t+k+1}$;\n",
    "\n",
    "$\\sum \\limits _{k=0} ^{\\infty} \\gamma^{k}R_{t+k+1} = \\sum \\limits _{k=0} ^{\\infty} \\gamma^{k}$;\n",
    "\n",
    "$G_{t} = \\sum \\limits _{k=0} ^{\\infty} \\gamma^{k}$;\n",
    "\n",
    "$G_{t}\\gamma = \\sum \\limits _{k=0} ^{\\infty} \\gamma^{k*1}$;\n",
    "\n",
    "$G_{t}\\gamma - G_{t} = \\sum \\limits _{k=0} ^{\\infty} \\gamma^{k+1} - \\gamma^{k}$;\n",
    "\n",
    "$G_{t}(\\gamma -1) = lim _{k \\to \\infty} \\gamma^{k+1} - 1$;\n",
    "\n",
    "$G_{T} = lim _{k \\to \\infty} \\frac{\\gamma ^{k+1} -1}{\\gamma -1}$;\n",
    "\n",
    "$G_{T} = lim _{k \\to \\infty} \\frac{1 - \\gamma ^{k+1}}{1 - \\gamma}$;\n",
    "\n",
    "Assumindo $0 < \\gamma < 1$, temos:\n",
    "\n",
    "$lim _{k \\to \\infty} \\gamma^{k+1} = 0$;\n",
    "\n",
    "Logo,\n",
    "\n",
    "$G_{T} = \\frac{1}{1 - \\gamma}$;"
   ]
  }
 ],
 "metadata": {
  "kernelspec": {
   "display_name": "Python 3",
   "language": "python",
   "name": "python3"
  },
  "language_info": {
   "codemirror_mode": {
    "name": "ipython",
    "version": 3
   },
   "file_extension": ".py",
   "mimetype": "text/x-python",
   "name": "python",
   "nbconvert_exporter": "python",
   "pygments_lexer": "ipython3",
   "version": "3.8.5"
  }
 },
 "nbformat": 4,
 "nbformat_minor": 4
}
