{
 "cells": [
  {
   "cell_type": "markdown",
   "metadata": {},
   "source": [
    "## Exercise 2.2\n",
    "Bandit example Consider a k -armed bandit problem with k = 4 actions, denoted 1, 2, 3, and 4. Consider applying to this problem a bandit algorithm using \"-greedy action selection, sample-average action-value estimates, and initial estimates of $Q_1(a) = 0$, for all a. Suppose the initial sequence of actions and rewards is $A_1 = 1, R_1 = -1, A_2 = 2, R_2 = 1, A_3 = 2, R_3 = -2, A_4 = 2, R_4 = 2, A_5 = 3, R_5 = 0$. On some of these time steps the \" case may have occurred, causing an action to be selected at random. On which time steps did this definitely occur? On which time steps could this possibly have occurred?"
   ]
  },
  {
   "cell_type": "markdown",
   "metadata": {},
   "source": [
    "$k = \\{1, 2, 3, 4\\}$\n",
    "\n",
    "* $A_1 = 1$, $R_1 = -1$\n",
    "* $A_2 = 2$, $R_2 = 1$\n",
    "* $A_3 = 2$, $R_3 = -2$\n",
    "* $A_4 = 2$, $R_4 = 2$\n",
    "* $A_5 = 3$, $R_5 = 0$\n",
    "\n",
    "Dado $Q_n = \\frac {1}{n}\\sum \\limits _{i=1} ^{n-1} R_i$\n",
    "\n",
    "Em $t=0$, para todo $n \\in Q$, $Q_n = 0$, logo $A_1$ pode ter sido escolhida tanto por $\\epsilon$ quanto por $1-\\epsilon$, pois todas possui a mesma recompensa esperada;\n",
    "\n",
    "Em $t=1$, $Q_1 = \\frac {0-1}{0+1} = -1$, logo $A_2$ pode ter sido escolhida tanto por $\\epsilon$ quanto por $1-\\epsilon$, pois não é a ação gulosa e mais de uma ação atende a propriedade $A_t \\dot{=} argmax _{a}Q_t(a)$;\n",
    "\n",
    "Em $t=2$, $Q_2 = \\frac {0+0+1}{1} = 1$, logo $A_3$ é a ação gulosa e foi provavelmente escolhido por $1 - \\epsilon$;\n",
    "\n",
    "Em $t=3$, $Q_2 = \\frac {0+0+1-2}{2} = -1.5$, logo $A_4$ não é a ação gulosa, tendo sido escolhido por $\\epsilon$;\n",
    "\n",
    "Em $t=4$, $Q_2 = \\frac {0+0+1-2+2}{3} = 0.333...$, logo, $A_5$ não é a ação gulosa, e é escolhida por $\\epsilon$;\n",
    "\n",
    "Em $t=5$, $Q_3 = 0$."
   ]
  }
 ],
 "metadata": {
  "kernelspec": {
   "display_name": "Python 3",
   "language": "python",
   "name": "python3"
  },
  "language_info": {
   "codemirror_mode": {
    "name": "ipython",
    "version": 3
   },
   "file_extension": ".py",
   "mimetype": "text/x-python",
   "name": "python",
   "nbconvert_exporter": "python",
   "pygments_lexer": "ipython3",
   "version": "3.8.5"
  }
 },
 "nbformat": 4,
 "nbformat_minor": 4
}
